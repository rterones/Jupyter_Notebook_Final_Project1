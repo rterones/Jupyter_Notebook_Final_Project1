{
 "cells": [
  {
   "cell_type": "markdown",
   "id": "52f0e1ca-a674-4079-b823-8ccbd07ec327",
   "metadata": {},
   "source": [
    "# My Jupyter Notebook on IBM Watson Studio"
   ]
  },
  {
   "cell_type": "markdown",
   "id": "3de9137d-3122-40c1-b308-99915b80a517",
   "metadata": {},
   "source": [
    "**Roane Terones**"
   ]
  },
  {
   "cell_type": "markdown",
   "id": "0656a3fa-2e42-440d-a2c8-fc70c15b4c8c",
   "metadata": {},
   "source": [
    "Data scientist"
   ]
  },
  {
   "cell_type": "markdown",
   "id": "12d09ee9-c8aa-4603-b808-972bebac8e76",
   "metadata": {},
   "source": [
    "*I am interested in data science because I have a passion in learning analytical techniques and tools to solve problems relating to data*"
   ]
  },
  {
   "cell_type": "markdown",
   "id": "4458aa65-bf54-4a95-9e6a-08f4fd3921b2",
   "metadata": {},
   "source": [
    "### This code shows the sum of adding two numbers"
   ]
  },
  {
   "cell_type": "code",
   "execution_count": 9,
   "id": "2f22c2d4-38a2-4557-b4e0-7184e9ddb74a",
   "metadata": {},
   "outputs": [
    {
     "name": "stdout",
     "output_type": "stream",
     "text": [
      "addition of a and b is = 6\n"
     ]
    }
   ],
   "source": [
    "a = 2\n",
    "b = 4\n",
    "c=a+b\n",
    "print(\"addition of a and b is =\",c)"
   ]
  },
  {
   "cell_type": "markdown",
   "id": "2eb3c6b0-a51c-4c06-bcf5-8092f5f86381",
   "metadata": {},
   "source": [
    "1. key\n",
    "2. shoes\n",
    "3. flower\n",
    "4. dog\n",
    "5. school\n",
    "<p> using horizontal rule </p>\n",
    "\n",
    "https://www.thedogandfriends.com/en/"
   ]
  },
  {
   "cell_type": "code",
   "execution_count": null,
   "id": "2ef89093-1d5d-4cb4-9117-813b0103f41b",
   "metadata": {},
   "outputs": [],
   "source": []
  }
 ],
 "metadata": {
  "kernelspec": {
   "display_name": "Python",
   "language": "python",
   "name": "conda-env-python-py"
  },
  "language_info": {
   "codemirror_mode": {
    "name": "ipython",
    "version": 3
   },
   "file_extension": ".py",
   "mimetype": "text/x-python",
   "name": "python",
   "nbconvert_exporter": "python",
   "pygments_lexer": "ipython3",
   "version": "3.7.12"
  }
 },
 "nbformat": 4,
 "nbformat_minor": 5
}
